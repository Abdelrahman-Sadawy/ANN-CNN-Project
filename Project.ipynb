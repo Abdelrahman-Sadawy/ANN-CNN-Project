{
  "nbformat": 4,
  "nbformat_minor": 0,
  "metadata": {
    "colab": {
      "provenance": []
    },
    "kernelspec": {
      "name": "python3",
      "display_name": "Python 3"
    },
    "language_info": {
      "name": "python"
    },
    "accelerator": "GPU",
    "gpuClass": "standard"
  },
  "cells": [
    {
      "cell_type": "code",
      "execution_count": 150,
      "metadata": {
        "id": "jm6HueJ-fneJ"
      },
      "outputs": [],
      "source": [
        "import zipfile\n",
        "import os"
      ]
    },
    {
      "cell_type": "code",
      "source": [
        "!wget --no-check-certificate \\\n",
        "    \"https://github.com/ardamavi/Sign-Language-Digits-Dataset/archive/refs/heads/master.zip\" \\\n",
        "    -O \"/tmp/Sign-Language-Digits-Dataset-master.zip\"\n",
        "\n",
        "\n",
        "zip_ref = zipfile.ZipFile('/tmp/Sign-Language-Digits-Dataset-master.zip', 'r') #Opens the zip file in read mode\n",
        "zip_ref.extractall('/tmp') #Extracts the files into the /tmp folder\n",
        "zip_ref.close()"
      ],
      "metadata": {
        "colab": {
          "base_uri": "https://localhost:8080/"
        },
        "id": "9S0d_D4NfuZ1",
        "outputId": "88506cf0-c361-4418-d7cf-ec2f2fbfa968"
      },
      "execution_count": 151,
      "outputs": [
        {
          "output_type": "stream",
          "name": "stdout",
          "text": [
            "--2022-12-31 19:45:50--  https://github.com/ardamavi/Sign-Language-Digits-Dataset/archive/refs/heads/master.zip\n",
            "Resolving github.com (github.com)... 140.82.121.3\n",
            "Connecting to github.com (github.com)|140.82.121.3|:443... connected.\n",
            "HTTP request sent, awaiting response... 302 Found\n",
            "Location: https://codeload.github.com/ardamavi/Sign-Language-Digits-Dataset/zip/refs/heads/master [following]\n",
            "--2022-12-31 19:45:50--  https://codeload.github.com/ardamavi/Sign-Language-Digits-Dataset/zip/refs/heads/master\n",
            "Resolving codeload.github.com (codeload.github.com)... 140.82.121.10\n",
            "Connecting to codeload.github.com (codeload.github.com)|140.82.121.10|:443... connected.\n",
            "HTTP request sent, awaiting response... 200 OK\n",
            "Length: unspecified [application/zip]\n",
            "Saving to: ‘/tmp/Sign-Language-Digits-Dataset-master.zip’\n",
            "\n",
            "/tmp/Sign-Language-     [      <=>           ]  16.43M  15.5MB/s    in 1.1s    \n",
            "\n",
            "2022-12-31 19:45:52 (15.5 MB/s) - ‘/tmp/Sign-Language-Digits-Dataset-master.zip’ saved [17231669]\n",
            "\n"
          ]
        }
      ]
    },
    {
      "cell_type": "markdown",
      "source": [
        "Some Packages"
      ],
      "metadata": {
        "id": "5EpEWhp-gBIv"
      }
    },
    {
      "cell_type": "code",
      "source": [
        "import tensorflow as tf\n",
        "import sklearn as sk\n",
        "from tensorflow import keras\n",
        "import matplotlib.pyplot as plt\n",
        "from keras.models import Sequential\n",
        "from keras.layers import Dense, Flatten, Activation, Conv2D, MaxPooling2D\n",
        "from keras.activations import linear, relu, sigmoid\n",
        "from keras.regularizers import l2\n",
        "from sklearn.model_selection import KFold, train_test_split, cross_val_score\n",
        "from sklearn.metrics import classification_report, accuracy_score\n",
        "from sklearn.svm import SVC\n",
        "%matplotlib inline\n",
        "import numpy as np\n",
        "import cv2"
      ],
      "metadata": {
        "id": "wjfRX6NNf4du"
      },
      "execution_count": 152,
      "outputs": []
    },
    {
      "cell_type": "markdown",
      "source": [
        "Loading the dataset"
      ],
      "metadata": {
        "id": "qZnjJ324OMnl"
      }
    },
    {
      "cell_type": "code",
      "source": [
        "image_size = 100\n",
        "num_class = 10\n",
        "grayscale_images = False\n",
        "\n",
        "def getImg(path, color):\n",
        "    img = cv2.imread(path, color)\n",
        "    img = cv2.resize(img, (image_size, image_size))\n",
        "    return img\n",
        "\n",
        "def get_dataset(dataset_path='/tmp/Sign-Language-Digits-Dataset-master/Dataset'):\n",
        "    labels = os.listdir(dataset_path) # Geting labels\n",
        "    print(labels)\n",
        "    X_gray = []\n",
        "    X_rgb = []\n",
        "    Y = []\n",
        "    for i, label in enumerate(labels):\n",
        "        datas_path = dataset_path+'/'+label\n",
        "        for data in os.listdir(datas_path): \n",
        "            X_gray.append(getImg(datas_path+'/'+data, 0))\n",
        "            X_rgb.append(getImg(datas_path+'/'+data, 1))\n",
        "            Y.append(label)\n",
        "    \n",
        "    # Normalized gray img:\n",
        "    X_gray = np.array(X_gray).astype('float32')\n",
        "    X_gray = X_gray / 255\n",
        "    \n",
        "\n",
        "    # Normalized rgb img\n",
        "    X_rgb = np.array(X_rgb).astype('float32')\n",
        "    avg = np.average(X_rgb)\n",
        "    X_rgb = (X_rgb - avg) / 255\n",
        "\n",
        "    Y = np.array(Y).astype('float32')\n",
        "    \n",
        "    return X_gray, X_rgb, Y\n",
        "\n",
        "X_gray, X_rgb, Y = get_dataset()\n",
        "\n",
        "\n",
        "print(X_rgb[0])\n",
        "print(X_rgb[0].shape)\n",
        "print(X_rgb.shape)\n",
        "\n",
        "\n",
        "#plt.matshow(X[0])\n",
        "#plt.imshow(X[0], cmap = \"gray\")\n",
        "#plt.show()"
      ],
      "metadata": {
        "colab": {
          "base_uri": "https://localhost:8080/"
        },
        "id": "_-JwjKn_gbad",
        "outputId": "3f17d42e-ed87-43d6-9025-717767e02ef3"
      },
      "execution_count": 153,
      "outputs": [
        {
          "output_type": "stream",
          "name": "stdout",
          "text": [
            "['4', '0', '3', '8', '6', '5', '9', '2', '1', '7']\n",
            "[[[-0.10434828 -0.09258357 -0.07689729]\n",
            "  [-0.09258357 -0.08081886 -0.06513259]\n",
            "  [-0.08474043 -0.07297572 -0.05728945]\n",
            "  ...\n",
            "  [-0.17493652 -0.17885809 -0.17101495]\n",
            "  [-0.18277965 -0.18670122 -0.17885809]\n",
            "  [-0.19062279 -0.19454436 -0.18670122]]\n",
            "\n",
            " [[-0.10042671 -0.088662   -0.07297572]\n",
            "  [-0.088662   -0.07689729 -0.06121102]\n",
            "  [-0.08081886 -0.06905416 -0.05336788]\n",
            "  ...\n",
            "  [-0.16709338 -0.17101495 -0.16317181]\n",
            "  [-0.17885809 -0.18277965 -0.17493652]\n",
            "  [-0.18670122 -0.19062279 -0.18277965]]\n",
            "\n",
            " [[-0.09258357 -0.08081886 -0.06513259]\n",
            "  [-0.08474043 -0.07297572 -0.05728945]\n",
            "  [-0.07297572 -0.06121102 -0.04552475]\n",
            "  ...\n",
            "  [-0.15925023 -0.16317181 -0.15532866]\n",
            "  [-0.17101495 -0.17493652 -0.16709338]\n",
            "  [-0.17885809 -0.18277965 -0.17493652]]\n",
            "\n",
            " ...\n",
            "\n",
            " [[-0.17101495 -0.1514071  -0.14748552]\n",
            "  [-0.16709338 -0.14748552 -0.14356396]\n",
            "  [-0.16317181 -0.14356396 -0.13964239]\n",
            "  ...\n",
            "  [-0.24944632 -0.24160318 -0.23768161]\n",
            "  [-0.25728944 -0.24944632 -0.24552475]\n",
            "  [-0.261211   -0.25336787 -0.24944632]]\n",
            "\n",
            " [[-0.17493652 -0.15532866 -0.1514071 ]\n",
            "  [-0.17101495 -0.1514071  -0.14748552]\n",
            "  [-0.16709338 -0.14748552 -0.14356396]\n",
            "  ...\n",
            "  [-0.25728944 -0.24944632 -0.24552475]\n",
            "  [-0.261211   -0.25336787 -0.24944632]\n",
            "  [-0.26513258 -0.25728944 -0.25336787]]\n",
            "\n",
            " [[-0.17885809 -0.15925023 -0.15532866]\n",
            "  [-0.17493652 -0.15532866 -0.1514071 ]\n",
            "  [-0.17101495 -0.1514071  -0.14748552]\n",
            "  ...\n",
            "  [-0.261211   -0.25336787 -0.24944632]\n",
            "  [-0.26513258 -0.25728944 -0.25336787]\n",
            "  [-0.26905414 -0.261211   -0.25728944]]]\n",
            "(100, 100, 3)\n",
            "(2062, 100, 100, 3)\n"
          ]
        }
      ]
    },
    {
      "cell_type": "markdown",
      "source": [
        "Model 1: ANN"
      ],
      "metadata": {
        "id": "DtoG3H8UsyJZ"
      }
    },
    {
      "cell_type": "code",
      "source": [
        "#splitting the data into train and test and valdiation\n",
        "X_train, X_test, Y_train, Y_test = train_test_split(X_gray, Y, test_size = 0.2 , random_state = 123)\n",
        "model1 = Sequential(\n",
        "    [\n",
        "        Flatten(input_shape = (100, 100)),\n",
        "        Dense(1024, activation = \"relu\"),\n",
        "        Dense(516, activation = \"relu\"),\n",
        "        Dense(256, activation = \"relu\"),\n",
        "        Dense(10, activation = \"softmax\")\n",
        "    ]\n",
        ")\n",
        "\n",
        "model1.compile(\n",
        "    optimizer = \"adam\",\n",
        "    loss = \"sparse_categorical_crossentropy\",\n",
        "    metrics=['accuracy']\n",
        ")\n",
        "\n",
        "kf = KFold(n_splits=2)\n",
        "\n",
        "for train_index, test_index in kf.split(X_train, Y_train):\n",
        "  model1.fit(X_train[train_index], Y_train[train_index], epochs=15)\n",
        "  print(\"\\nModel Evaluation\")\n",
        "  model1.evaluate(X_train[test_index], Y_train[test_index])\n",
        "  print(\"\\n\")\n",
        "  \n",
        "\n"
      ],
      "metadata": {
        "colab": {
          "base_uri": "https://localhost:8080/"
        },
        "id": "wmERGvoVr9RS",
        "outputId": "27b48d7e-29da-48ed-c60e-6e74a9a95d2b"
      },
      "execution_count": 154,
      "outputs": [
        {
          "output_type": "stream",
          "name": "stdout",
          "text": [
            "Epoch 1/15\n",
            "26/26 [==============================] - 0s 5ms/step - loss: 8.9997 - accuracy: 0.1044\n",
            "Epoch 2/15\n",
            "26/26 [==============================] - 0s 6ms/step - loss: 2.4429 - accuracy: 0.1238\n",
            "Epoch 3/15\n",
            "26/26 [==============================] - 0s 6ms/step - loss: 2.3656 - accuracy: 0.1408\n",
            "Epoch 4/15\n",
            "26/26 [==============================] - 0s 5ms/step - loss: 2.2423 - accuracy: 0.2002\n",
            "Epoch 5/15\n",
            "26/26 [==============================] - 0s 5ms/step - loss: 2.1679 - accuracy: 0.2002\n",
            "Epoch 6/15\n",
            "26/26 [==============================] - 0s 5ms/step - loss: 2.0217 - accuracy: 0.2998\n",
            "Epoch 7/15\n",
            "26/26 [==============================] - 0s 5ms/step - loss: 1.9101 - accuracy: 0.3240\n",
            "Epoch 8/15\n",
            "26/26 [==============================] - 0s 5ms/step - loss: 1.7953 - accuracy: 0.3714\n",
            "Epoch 9/15\n",
            "26/26 [==============================] - 0s 5ms/step - loss: 1.6128 - accuracy: 0.4296\n",
            "Epoch 10/15\n",
            "26/26 [==============================] - 0s 5ms/step - loss: 1.5462 - accuracy: 0.4381\n",
            "Epoch 11/15\n",
            "26/26 [==============================] - 0s 5ms/step - loss: 1.4878 - accuracy: 0.4490\n",
            "Epoch 12/15\n",
            "26/26 [==============================] - 0s 5ms/step - loss: 1.3460 - accuracy: 0.5085\n",
            "Epoch 13/15\n",
            "26/26 [==============================] - 0s 5ms/step - loss: 1.2964 - accuracy: 0.5255\n",
            "Epoch 14/15\n",
            "26/26 [==============================] - 0s 5ms/step - loss: 1.2015 - accuracy: 0.5825\n",
            "Epoch 15/15\n",
            "26/26 [==============================] - 0s 5ms/step - loss: 1.0374 - accuracy: 0.6396\n",
            "\n",
            "Model Evaluation\n",
            "26/26 [==============================] - 0s 3ms/step - loss: 1.4702 - accuracy: 0.4909\n",
            "\n",
            "\n",
            "Epoch 1/15\n",
            "26/26 [==============================] - 0s 5ms/step - loss: 1.3612 - accuracy: 0.5152\n",
            "Epoch 2/15\n",
            "26/26 [==============================] - 0s 5ms/step - loss: 1.3793 - accuracy: 0.4982\n",
            "Epoch 3/15\n",
            "26/26 [==============================] - 0s 5ms/step - loss: 1.3333 - accuracy: 0.5115\n",
            "Epoch 4/15\n",
            "26/26 [==============================] - 0s 5ms/step - loss: 1.2187 - accuracy: 0.5564\n",
            "Epoch 5/15\n",
            "26/26 [==============================] - 0s 5ms/step - loss: 1.1728 - accuracy: 0.5782\n",
            "Epoch 6/15\n",
            "26/26 [==============================] - 0s 5ms/step - loss: 1.1394 - accuracy: 0.5976\n",
            "Epoch 7/15\n",
            "26/26 [==============================] - 0s 5ms/step - loss: 1.0484 - accuracy: 0.6279\n",
            "Epoch 8/15\n",
            "26/26 [==============================] - 0s 5ms/step - loss: 1.0186 - accuracy: 0.6642\n",
            "Epoch 9/15\n",
            "26/26 [==============================] - 0s 5ms/step - loss: 1.0152 - accuracy: 0.6412\n",
            "Epoch 10/15\n",
            "26/26 [==============================] - 0s 5ms/step - loss: 0.8234 - accuracy: 0.7152\n",
            "Epoch 11/15\n",
            "26/26 [==============================] - 0s 5ms/step - loss: 1.1219 - accuracy: 0.6194\n",
            "Epoch 12/15\n",
            "26/26 [==============================] - 0s 5ms/step - loss: 0.9255 - accuracy: 0.6764\n",
            "Epoch 13/15\n",
            "26/26 [==============================] - 0s 5ms/step - loss: 0.9480 - accuracy: 0.6545\n",
            "Epoch 14/15\n",
            "26/26 [==============================] - 0s 5ms/step - loss: 0.8653 - accuracy: 0.6982\n",
            "Epoch 15/15\n",
            "26/26 [==============================] - 0s 5ms/step - loss: 0.7444 - accuracy: 0.7406\n",
            "\n",
            "Model Evaluation\n",
            "26/26 [==============================] - 0s 3ms/step - loss: 0.7057 - accuracy: 0.7876\n",
            "\n",
            "\n"
          ]
        }
      ]
    },
    {
      "cell_type": "markdown",
      "source": [
        "Model 2 ANN Classification Report"
      ],
      "metadata": {
        "id": "mTInzUF4LpGg"
      }
    },
    {
      "cell_type": "code",
      "source": [
        "y_pred = model1.predict(X_test)\n",
        "\n",
        "y_pred_labels = [np.argmax(i) for i in y_pred]\n",
        "\n",
        "print(classification_report(Y_test, y_pred_labels))"
      ],
      "metadata": {
        "colab": {
          "base_uri": "https://localhost:8080/"
        },
        "id": "SB5RyLrEYWRH",
        "outputId": "aeb623ac-121a-41f1-d251-1f318c63a98e"
      },
      "execution_count": 155,
      "outputs": [
        {
          "output_type": "stream",
          "name": "stdout",
          "text": [
            "13/13 [==============================] - 0s 2ms/step\n",
            "              precision    recall  f1-score   support\n",
            "\n",
            "         0.0       0.66      0.95      0.78        43\n",
            "         1.0       0.79      0.75      0.77        40\n",
            "         2.0       0.83      0.63      0.72        38\n",
            "         3.0       0.77      0.77      0.77        39\n",
            "         4.0       0.61      0.64      0.62        44\n",
            "         5.0       0.58      0.90      0.71        39\n",
            "         6.0       0.77      0.61      0.68        44\n",
            "         7.0       0.63      0.68      0.65        40\n",
            "         8.0       0.69      0.66      0.68        38\n",
            "         9.0       0.88      0.46      0.60        48\n",
            "\n",
            "    accuracy                           0.70       413\n",
            "   macro avg       0.72      0.70      0.70       413\n",
            "weighted avg       0.72      0.70      0.70       413\n",
            "\n"
          ]
        }
      ]
    },
    {
      "cell_type": "markdown",
      "source": [
        "Model 2: ANN\n"
      ],
      "metadata": {
        "id": "iQ_s3E7P_vQk"
      }
    },
    {
      "cell_type": "code",
      "source": [
        "model2 = Sequential(\n",
        "    [\n",
        "        Flatten(input_shape = (100, 100)),\n",
        "        Dense(1024, activation = \"relu\"),\n",
        "        Dense(516, activation = \"relu\"),\n",
        "        Dense(10, activation = \"softmax\")\n",
        "    ]\n",
        ")\n",
        "\n",
        "model2.compile(\n",
        "    optimizer = \"adam\",\n",
        "    loss = \"sparse_categorical_crossentropy\",\n",
        "    metrics=['accuracy']\n",
        ")\n",
        "\n",
        "kf = KFold(n_splits=2)\n",
        "\n",
        "for train_index, test_index in kf.split(X_train, Y_train):\n",
        "  model2.fit(X_train[train_index], Y_train[train_index], epochs=15)\n",
        "  print(\"\\nModel Evaluation\")\n",
        "  model2.evaluate(X_train[test_index], Y_train[test_index])\n",
        "  print(\"\\n\")\n",
        "  "
      ],
      "metadata": {
        "colab": {
          "base_uri": "https://localhost:8080/"
        },
        "id": "WhJq6KTQ_z_E",
        "outputId": "9a9e1bd6-41fd-4281-c549-3c0dfb584d36"
      },
      "execution_count": 156,
      "outputs": [
        {
          "output_type": "stream",
          "name": "stdout",
          "text": [
            "Epoch 1/15\n",
            "26/26 [==============================] - 0s 5ms/step - loss: 10.4169 - accuracy: 0.1044\n",
            "Epoch 2/15\n",
            "26/26 [==============================] - 0s 5ms/step - loss: 2.5184 - accuracy: 0.1335\n",
            "Epoch 3/15\n",
            "26/26 [==============================] - 0s 5ms/step - loss: 2.2559 - accuracy: 0.2039\n",
            "Epoch 4/15\n",
            "26/26 [==============================] - 0s 5ms/step - loss: 2.1146 - accuracy: 0.2415\n",
            "Epoch 5/15\n",
            "26/26 [==============================] - 0s 5ms/step - loss: 1.9758 - accuracy: 0.3070\n",
            "Epoch 6/15\n",
            "26/26 [==============================] - 0s 5ms/step - loss: 1.9172 - accuracy: 0.3362\n",
            "Epoch 7/15\n",
            "26/26 [==============================] - 0s 5ms/step - loss: 1.7418 - accuracy: 0.4029\n",
            "Epoch 8/15\n",
            "26/26 [==============================] - 0s 5ms/step - loss: 1.5739 - accuracy: 0.4223\n",
            "Epoch 9/15\n",
            "26/26 [==============================] - 0s 5ms/step - loss: 1.4718 - accuracy: 0.4915\n",
            "Epoch 10/15\n",
            "26/26 [==============================] - 0s 5ms/step - loss: 1.2834 - accuracy: 0.5522\n",
            "Epoch 11/15\n",
            "26/26 [==============================] - 0s 5ms/step - loss: 1.3028 - accuracy: 0.5461\n",
            "Epoch 12/15\n",
            "26/26 [==============================] - 0s 5ms/step - loss: 1.3164 - accuracy: 0.5449\n",
            "Epoch 13/15\n",
            "26/26 [==============================] - 0s 5ms/step - loss: 1.1732 - accuracy: 0.6007\n",
            "Epoch 14/15\n",
            "26/26 [==============================] - 0s 5ms/step - loss: 1.1077 - accuracy: 0.6153\n",
            "Epoch 15/15\n",
            "26/26 [==============================] - 0s 5ms/step - loss: 1.0585 - accuracy: 0.6238\n",
            "\n",
            "Model Evaluation\n",
            "26/26 [==============================] - 0s 3ms/step - loss: 1.4163 - accuracy: 0.4861\n",
            "\n",
            "\n",
            "Epoch 1/15\n",
            "26/26 [==============================] - 0s 5ms/step - loss: 1.2705 - accuracy: 0.5588\n",
            "Epoch 2/15\n",
            "26/26 [==============================] - 0s 5ms/step - loss: 1.1765 - accuracy: 0.5891\n",
            "Epoch 3/15\n",
            "26/26 [==============================] - 0s 5ms/step - loss: 1.2446 - accuracy: 0.5527\n",
            "Epoch 4/15\n",
            "26/26 [==============================] - 0s 5ms/step - loss: 1.0105 - accuracy: 0.6400\n",
            "Epoch 5/15\n",
            "26/26 [==============================] - 0s 5ms/step - loss: 1.1606 - accuracy: 0.5964\n",
            "Epoch 6/15\n",
            "26/26 [==============================] - 0s 5ms/step - loss: 1.0406 - accuracy: 0.6291\n",
            "Epoch 7/15\n",
            "26/26 [==============================] - 0s 5ms/step - loss: 0.9009 - accuracy: 0.6873\n",
            "Epoch 8/15\n",
            "26/26 [==============================] - 0s 5ms/step - loss: 0.8517 - accuracy: 0.6994\n",
            "Epoch 9/15\n",
            "26/26 [==============================] - 0s 5ms/step - loss: 0.8278 - accuracy: 0.7224\n",
            "Epoch 10/15\n",
            "26/26 [==============================] - 0s 5ms/step - loss: 0.9238 - accuracy: 0.6739\n",
            "Epoch 11/15\n",
            "26/26 [==============================] - 0s 5ms/step - loss: 1.0960 - accuracy: 0.6279\n",
            "Epoch 12/15\n",
            "26/26 [==============================] - 0s 5ms/step - loss: 1.0421 - accuracy: 0.6339\n",
            "Epoch 13/15\n",
            "26/26 [==============================] - 0s 5ms/step - loss: 0.9696 - accuracy: 0.6448\n",
            "Epoch 14/15\n",
            "26/26 [==============================] - 0s 5ms/step - loss: 0.8360 - accuracy: 0.7164\n",
            "Epoch 15/15\n",
            "26/26 [==============================] - 0s 5ms/step - loss: 0.7606 - accuracy: 0.7418\n",
            "\n",
            "Model Evaluation\n",
            "26/26 [==============================] - 0s 3ms/step - loss: 0.8048 - accuracy: 0.7451\n",
            "\n",
            "\n"
          ]
        }
      ]
    },
    {
      "cell_type": "markdown",
      "source": [
        "Model 2 ANN Classification Report"
      ],
      "metadata": {
        "id": "8G5JUo0HVsLl"
      }
    },
    {
      "cell_type": "code",
      "source": [
        "y_pred = model2.predict(X_test)\n",
        "\n",
        "y_pred_labels = [np.argmax(i) for i in y_pred]\n",
        "\n",
        "print(classification_report(Y_test, y_pred_labels))"
      ],
      "metadata": {
        "colab": {
          "base_uri": "https://localhost:8080/"
        },
        "id": "vdMHBfNbbXIs",
        "outputId": "a1ad40a1-73eb-44e7-9f8c-450750313fbb"
      },
      "execution_count": 157,
      "outputs": [
        {
          "output_type": "stream",
          "name": "stdout",
          "text": [
            "13/13 [==============================] - 0s 2ms/step\n",
            "              precision    recall  f1-score   support\n",
            "\n",
            "         0.0       0.77      0.86      0.81        43\n",
            "         1.0       0.79      0.82      0.80        40\n",
            "         2.0       0.70      0.79      0.74        38\n",
            "         3.0       0.93      0.69      0.79        39\n",
            "         4.0       0.42      0.66      0.51        44\n",
            "         5.0       0.84      0.67      0.74        39\n",
            "         6.0       0.67      0.73      0.70        44\n",
            "         7.0       0.57      0.75      0.65        40\n",
            "         8.0       0.80      0.21      0.33        38\n",
            "         9.0       0.88      0.73      0.80        48\n",
            "\n",
            "    accuracy                           0.69       413\n",
            "   macro avg       0.74      0.69      0.69       413\n",
            "weighted avg       0.73      0.69      0.69       413\n",
            "\n"
          ]
        }
      ]
    },
    {
      "cell_type": "markdown",
      "source": [
        "CNN Model"
      ],
      "metadata": {
        "id": "dvnBcOxjLIAM"
      }
    },
    {
      "cell_type": "code",
      "source": [
        "#splitting the data into train and test\n",
        "X_train, X_test, Y_train, Y_test = train_test_split(X_rgb, Y, test_size = 0.2 , random_state = 123)\n",
        "\n",
        "cnnModel = Sequential(\n",
        "    [\n",
        "        #CNN\n",
        "        Conv2D(filters=64, kernel_size=(5, 5), activation='relu', input_shape=(100, 100, 3)),\n",
        "        MaxPooling2D((3, 3)),\n",
        "\n",
        "        #Dense\n",
        "        Flatten(),\n",
        "        Dense(216, activation = \"relu\"),\n",
        "        Dense(64, activation = \"relu\"),\n",
        "        Dense(10, activation = \"softmax\")\n",
        "    ]\n",
        ")\n",
        "\n",
        "cnnModel.compile(\n",
        "    optimizer = \"adam\",\n",
        "    loss = \"sparse_categorical_crossentropy\",\n",
        "    metrics=['accuracy']\n",
        ")\n",
        "\n",
        "kf = KFold(n_splits=2)\n",
        "\n",
        "for train_index, test_index in kf.split(X_train, Y_train):\n",
        "  cnnModel.fit(X_train[train_index], Y_train[train_index], epochs=15)\n",
        "  print(\"\\nModel Evaluation\")\n",
        "  cnnModel.evaluate(X_train[test_index], Y_train[test_index])\n",
        "  print(\"\\n\")"
      ],
      "metadata": {
        "colab": {
          "base_uri": "https://localhost:8080/"
        },
        "id": "1srKWqgbMLa0",
        "outputId": "9ba19812-e6f9-4304-aaef-f9c67831eb2f"
      },
      "execution_count": 158,
      "outputs": [
        {
          "output_type": "stream",
          "name": "stdout",
          "text": [
            "Epoch 1/15\n",
            "26/26 [==============================] - 1s 17ms/step - loss: 1.6977 - accuracy: 0.4150\n",
            "Epoch 2/15\n",
            "26/26 [==============================] - 0s 17ms/step - loss: 0.6776 - accuracy: 0.7718\n",
            "Epoch 3/15\n",
            "26/26 [==============================] - 0s 17ms/step - loss: 0.3307 - accuracy: 0.8981\n",
            "Epoch 4/15\n",
            "26/26 [==============================] - 0s 17ms/step - loss: 0.1548 - accuracy: 0.9624\n",
            "Epoch 5/15\n",
            "26/26 [==============================] - 0s 17ms/step - loss: 0.0768 - accuracy: 0.9818\n",
            "Epoch 6/15\n",
            "26/26 [==============================] - 0s 17ms/step - loss: 0.0425 - accuracy: 0.9927\n",
            "Epoch 7/15\n",
            "26/26 [==============================] - 0s 17ms/step - loss: 0.0156 - accuracy: 1.0000\n",
            "Epoch 8/15\n",
            "26/26 [==============================] - 0s 17ms/step - loss: 0.0056 - accuracy: 1.0000\n",
            "Epoch 9/15\n",
            "26/26 [==============================] - 0s 17ms/step - loss: 0.0034 - accuracy: 1.0000\n",
            "Epoch 10/15\n",
            "26/26 [==============================] - 0s 17ms/step - loss: 0.0022 - accuracy: 1.0000\n",
            "Epoch 11/15\n",
            "26/26 [==============================] - 0s 17ms/step - loss: 0.0017 - accuracy: 1.0000\n",
            "Epoch 12/15\n",
            "26/26 [==============================] - 0s 17ms/step - loss: 0.0015 - accuracy: 1.0000\n",
            "Epoch 13/15\n",
            "26/26 [==============================] - 0s 17ms/step - loss: 0.0012 - accuracy: 1.0000\n",
            "Epoch 14/15\n",
            "26/26 [==============================] - 0s 17ms/step - loss: 9.9690e-04 - accuracy: 1.0000\n",
            "Epoch 15/15\n",
            "26/26 [==============================] - 0s 17ms/step - loss: 8.5240e-04 - accuracy: 1.0000\n",
            "\n",
            "Model Evaluation\n",
            "26/26 [==============================] - 0s 10ms/step - loss: 0.7949 - accuracy: 0.8376\n",
            "\n",
            "\n",
            "Epoch 1/15\n",
            "26/26 [==============================] - 0s 17ms/step - loss: 1.0649 - accuracy: 0.7067\n",
            "Epoch 2/15\n",
            "26/26 [==============================] - 0s 17ms/step - loss: 0.3075 - accuracy: 0.9091\n",
            "Epoch 3/15\n",
            "26/26 [==============================] - 0s 17ms/step - loss: 0.1012 - accuracy: 0.9758\n",
            "Epoch 4/15\n",
            "26/26 [==============================] - 0s 17ms/step - loss: 0.0451 - accuracy: 0.9903\n",
            "Epoch 5/15\n",
            "26/26 [==============================] - 0s 17ms/step - loss: 0.0172 - accuracy: 0.9988\n",
            "Epoch 6/15\n",
            "26/26 [==============================] - 0s 17ms/step - loss: 0.0072 - accuracy: 1.0000\n",
            "Epoch 7/15\n",
            "26/26 [==============================] - 0s 17ms/step - loss: 0.0042 - accuracy: 1.0000\n",
            "Epoch 8/15\n",
            "26/26 [==============================] - 0s 17ms/step - loss: 0.0027 - accuracy: 1.0000\n",
            "Epoch 9/15\n",
            "26/26 [==============================] - 0s 17ms/step - loss: 0.0021 - accuracy: 1.0000\n",
            "Epoch 10/15\n",
            "26/26 [==============================] - 0s 17ms/step - loss: 0.0017 - accuracy: 1.0000\n",
            "Epoch 11/15\n",
            "26/26 [==============================] - 0s 17ms/step - loss: 0.0014 - accuracy: 1.0000\n",
            "Epoch 12/15\n",
            "26/26 [==============================] - 0s 17ms/step - loss: 0.0012 - accuracy: 1.0000\n",
            "Epoch 13/15\n",
            "26/26 [==============================] - 0s 17ms/step - loss: 0.0011 - accuracy: 1.0000\n",
            "Epoch 14/15\n",
            "26/26 [==============================] - 0s 17ms/step - loss: 9.5376e-04 - accuracy: 1.0000\n",
            "Epoch 15/15\n",
            "26/26 [==============================] - 0s 17ms/step - loss: 8.5235e-04 - accuracy: 1.0000\n",
            "\n",
            "Model Evaluation\n",
            "26/26 [==============================] - 0s 9ms/step - loss: 0.1898 - accuracy: 0.9454\n",
            "\n",
            "\n"
          ]
        }
      ]
    },
    {
      "cell_type": "markdown",
      "source": [
        "Cnn Model Classification Report"
      ],
      "metadata": {
        "id": "S8S7r2QPdKdv"
      }
    },
    {
      "cell_type": "code",
      "source": [
        "y_pred = cnnModel.predict(X_test)\n",
        "\n",
        "y_pred_labels = [np.argmax(i) for i in y_pred]\n",
        "\n",
        "\n",
        "print(classification_report(Y_test, y_pred_labels))"
      ],
      "metadata": {
        "colab": {
          "base_uri": "https://localhost:8080/"
        },
        "id": "EHK_HSipdN2F",
        "outputId": "4c1ff26d-16fa-4d78-a8a8-58654f67b39c"
      },
      "execution_count": 159,
      "outputs": [
        {
          "output_type": "stream",
          "name": "stdout",
          "text": [
            "13/13 [==============================] - 0s 7ms/step\n",
            "              precision    recall  f1-score   support\n",
            "\n",
            "         0.0       1.00      0.95      0.98        43\n",
            "         1.0       0.95      0.88      0.91        40\n",
            "         2.0       0.89      0.82      0.85        38\n",
            "         3.0       0.90      0.90      0.90        39\n",
            "         4.0       0.87      0.75      0.80        44\n",
            "         5.0       0.93      0.97      0.95        39\n",
            "         6.0       0.71      0.80      0.75        44\n",
            "         7.0       0.79      0.85      0.82        40\n",
            "         8.0       0.77      0.79      0.78        38\n",
            "         9.0       0.84      0.90      0.87        48\n",
            "\n",
            "    accuracy                           0.86       413\n",
            "   macro avg       0.86      0.86      0.86       413\n",
            "weighted avg       0.86      0.86      0.86       413\n",
            "\n"
          ]
        }
      ]
    },
    {
      "cell_type": "markdown",
      "source": [
        "SVM Model"
      ],
      "metadata": {
        "id": "3GePIorAeZTG"
      }
    },
    {
      "cell_type": "code",
      "source": [
        "print(X_train.shape)\n",
        "print(X_test.shape)"
      ],
      "metadata": {
        "colab": {
          "base_uri": "https://localhost:8080/"
        },
        "id": "kvZ7rapeqWib",
        "outputId": "50446524-e3e5-4059-e660-eb4d991d819c"
      },
      "execution_count": 160,
      "outputs": [
        {
          "output_type": "stream",
          "name": "stdout",
          "text": [
            "(1649, 100, 100, 3)\n",
            "(413, 100, 100, 3)\n"
          ]
        }
      ]
    },
    {
      "cell_type": "code",
      "source": [
        "X_train = X_train.reshape(X_train.shape[0],-1)\n",
        "X_test = X_test.reshape(X_test.shape[0],-1)\n",
        "\n",
        "\n",
        "svmModel = SVC()\n",
        "svmModel.fit(X_train, Y_train)\n",
        "\n",
        "predictions = svmModel.predict(X_test)"
      ],
      "metadata": {
        "id": "YYd2JGUhpAfS"
      },
      "execution_count": 162,
      "outputs": []
    },
    {
      "cell_type": "markdown",
      "source": [
        "SVM Evaluation"
      ],
      "metadata": {
        "id": "8aZbi3xIupip"
      }
    },
    {
      "cell_type": "code",
      "source": [
        "print(accuracy_score(Y_test, predictions))\n",
        "print(classification_report(Y_test, predictions))"
      ],
      "metadata": {
        "colab": {
          "base_uri": "https://localhost:8080/"
        },
        "id": "EvOYlVNAuuCA",
        "outputId": "8b640333-d910-4d7a-f2bd-855ece43e636"
      },
      "execution_count": 163,
      "outputs": [
        {
          "output_type": "stream",
          "name": "stdout",
          "text": [
            "0.8305084745762712\n",
            "              precision    recall  f1-score   support\n",
            "\n",
            "         0.0       0.89      0.98      0.93        43\n",
            "         1.0       0.97      0.88      0.92        40\n",
            "         2.0       0.84      0.84      0.84        38\n",
            "         3.0       1.00      0.79      0.89        39\n",
            "         4.0       0.73      0.61      0.67        44\n",
            "         5.0       0.86      0.95      0.90        39\n",
            "         6.0       0.74      0.84      0.79        44\n",
            "         7.0       0.68      0.75      0.71        40\n",
            "         8.0       0.82      0.82      0.82        38\n",
            "         9.0       0.84      0.85      0.85        48\n",
            "\n",
            "    accuracy                           0.83       413\n",
            "   macro avg       0.84      0.83      0.83       413\n",
            "weighted avg       0.84      0.83      0.83       413\n",
            "\n"
          ]
        }
      ]
    }
  ]
}